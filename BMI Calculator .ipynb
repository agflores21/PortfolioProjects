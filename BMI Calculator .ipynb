{
 "cells": [
  {
   "cell_type": "markdown",
   "id": "114dc174",
   "metadata": {},
   "source": [
    "## BMI Calculator"
   ]
  },
  {
   "cell_type": "code",
   "execution_count": 1,
   "id": "2e21c0a1",
   "metadata": {},
   "outputs": [
    {
     "name": "stdout",
     "output_type": "stream",
     "text": [
      "Enter your name: Anne\n",
      "Enter weight in pounds: 114\n",
      "Enter height in inches: 65\n",
      "18.96852071005917\n",
      "Anne, you are normal weight\n"
     ]
    }
   ],
   "source": [
    "name = input(\"Enter your name: \")\n",
    "\n",
    "weight = int(input(\"Enter weight in pounds: \"))\n",
    "\n",
    "height = int(input(\"Enter height in inches: \"))\n",
    "\n",
    "BMI = (weight * 703) / (height * height)\n",
    "\n",
    "print(BMI)\n",
    "\n",
    "\n",
    "if BMI > 0:\n",
    "    if BMI < 18.5:\n",
    "        print(name + \", you are underweight\")\n",
    "    elif BMI <= 24.9:\n",
    "        print(name + \", you are normal weight\")\n",
    "    elif BMI <= 29.9:\n",
    "        print(name + \", you are overweight\")\n",
    "    elif BMI <= 34.9:\n",
    "        print(name + \", you are obese\") \n",
    "    elif BMI <= 39.9:\n",
    "        print(name + \", you are severely obese\") \n",
    "    else: \n",
    "        print(name + \", you are morbidly obese\")\n",
    "else:\n",
    "    print(\"Enter valid input\")"
   ]
  },
  {
   "cell_type": "code",
   "execution_count": null,
   "id": "ea6c9b01",
   "metadata": {},
   "outputs": [],
   "source": []
  }
 ],
 "metadata": {
  "kernelspec": {
   "display_name": "Python 3 (ipykernel)",
   "language": "python",
   "name": "python3"
  },
  "language_info": {
   "codemirror_mode": {
    "name": "ipython",
    "version": 3
   },
   "file_extension": ".py",
   "mimetype": "text/x-python",
   "name": "python",
   "nbconvert_exporter": "python",
   "pygments_lexer": "ipython3",
   "version": "3.11.5"
  }
 },
 "nbformat": 4,
 "nbformat_minor": 5
}
